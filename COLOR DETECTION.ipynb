{
 "cells": [
  {
   "cell_type": "code",
   "execution_count": 1,
   "id": "4fc12faf",
   "metadata": {},
   "outputs": [],
   "source": [
    "#color detection using data science"
   ]
  },
  {
   "cell_type": "code",
   "execution_count": 2,
   "id": "1482c49b",
   "metadata": {},
   "outputs": [],
   "source": [
    "import cv2\n",
    "import pandas as pd"
   ]
  },
  {
   "cell_type": "code",
   "execution_count": 3,
   "id": "59084be3",
   "metadata": {},
   "outputs": [],
   "source": [
    "testimg_path = r'C:\\Users\\om\\OneDrive\\Desktop\\codeclause project1\\DATA GIVEN.jpg'\n",
    "testimg = cv2.imread(testimg_path)"
   ]
  },
  {
   "cell_type": "code",
   "execution_count": 4,
   "id": "feb52dd0",
   "metadata": {},
   "outputs": [],
   "source": [
    "# declaring global variables (are used later on)\n",
    "clicked_img = False\n",
    "r = g = b = x_pos = y_pos = 0"
   ]
  },
  {
   "cell_type": "code",
   "execution_count": 5,
   "id": "a520f0a5",
   "metadata": {},
   "outputs": [],
   "source": [
    "# Reading csv file with pandas and giving names to each column\n",
    "index = [\"color\", \"name_of_color\", \"hex\", \"R\", \"G\", \"B\"]\n",
    "csv = pd.read_csv('colordetection.csv', names=index, header=0, encoding='unicode_escape')"
   ]
  },
  {
   "cell_type": "code",
   "execution_count": 6,
   "id": "b6f9eb98",
   "metadata": {},
   "outputs": [],
   "source": [
    "# function to calculate minimum distance from all colors and get the most matching color\n",
    "def extract_name(R, G, B):\n",
    "    minimum = 10000\n",
    "    for i in range(len(csv)):\n",
    "        dis = abs(R - int(csv.loc[i, \"R\"])) + abs(G - int(csv.loc[i, \"G\"])) + abs(B - int(csv.loc[i, \"B\"]))\n",
    "        if dis <= minimum:\n",
    "            minimum = dis\n",
    "            c_name = csv.loc[i, \"name_of_color\"]\n",
    "    return c_name"
   ]
  },
  {
   "cell_type": "code",
   "execution_count": 7,
   "id": "da4d4252",
   "metadata": {},
   "outputs": [],
   "source": [
    "# function to get x,y coordinates of mouse double click\n",
    "def output_function(event, x, y, flags, param):\n",
    "    if event == cv2.EVENT_LBUTTONDBLCLK:\n",
    "        global b, g, r, x_pos, y_pos, clicked_img\n",
    "        clicked_img = True\n",
    "        x_pos = x\n",
    "        y_pos = y\n",
    "        b, g, r = testimg[y, x]\n",
    "        b = int(b)\n",
    "        g = int(g)\n",
    "        r = int(r)"
   ]
  },
  {
   "cell_type": "code",
   "execution_count": 8,
   "id": "99e7ed53",
   "metadata": {},
   "outputs": [],
   "source": [
    "cv2.namedWindow('DATA GIVEN')\n",
    "cv2.setMouseCallback('DATA GIVEN', output_function)"
   ]
  },
  {
   "cell_type": "code",
   "execution_count": 9,
   "id": "673c86f2",
   "metadata": {},
   "outputs": [],
   "source": [
    "while True:\n",
    "\n",
    "    cv2.imshow(\"DATA GIVEN\", testimg)\n",
    "    if clicked_img:\n",
    "\n",
    "        # cv2.rectangle to display results on the image(-1 fills entire rectangle, if given 0 then rectangle will be empty)\n",
    "        cv2.rectangle(testimg, (20, 20), (750, 60), (b, g, r), -1)\n",
    "\n",
    "        # string to display Color name and RGB values \n",
    "        text_display = extract_name(r, g, b) + ' R=' + str(r) + ' G=' + str(g) + ' B=' + str(b)\n",
    "\n",
    "        # cv2.putText(img,text,start,font(0-7),fontScale,color,thickness,lineType )\n",
    "        cv2.putText(testimg, text_display, (70, 40), 2, 0.8, (230, 230, 230), 2, cv2.LINE_AA)\n",
    "\n",
    "        # For very light colours we will display text in black colour\n",
    "        if r + g + b >= 600:\n",
    "            cv2.putText(testimg, text_display, (50, 50), 2, 0.8, (0, 0, 0), 2, cv2.LINE_AA)\n",
    "\n",
    "        clicked_img = False\n",
    "\n",
    "    # Exit when user hits 'esc' key\n",
    "    if cv2.waitKey(20) & 0xFF == 27:\n",
    "        break\n",
    "\n",
    "cv2.destroyAllWindows()"
   ]
  },
  {
   "cell_type": "code",
   "execution_count": null,
   "id": "7e7a76ad",
   "metadata": {},
   "outputs": [],
   "source": []
  },
  {
   "cell_type": "code",
   "execution_count": null,
   "id": "a1c254fa",
   "metadata": {},
   "outputs": [],
   "source": []
  }
 ],
 "metadata": {
  "kernelspec": {
   "display_name": "Python 3 (ipykernel)",
   "language": "python",
   "name": "python3"
  },
  "language_info": {
   "codemirror_mode": {
    "name": "ipython",
    "version": 3
   },
   "file_extension": ".py",
   "mimetype": "text/x-python",
   "name": "python",
   "nbconvert_exporter": "python",
   "pygments_lexer": "ipython3",
   "version": "3.9.7"
  }
 },
 "nbformat": 4,
 "nbformat_minor": 5
}
